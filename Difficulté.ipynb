{
  "nbformat": 4,
  "nbformat_minor": 0,
  "metadata": {
    "colab": {
      "provenance": []
    },
    "kernelspec": {
      "name": "python3",
      "display_name": "Python 3"
    },
    "language_info": {
      "name": "python"
    }
  },
  "cells": [
    {
      "cell_type": "code",
      "execution_count": null,
      "metadata": {
        "id": "7P6dqciyOI6w"
      },
      "outputs": [],
      "source": [
        "class Difficulté:\n",
        "    PARAMÈTRES_PAR_DÉFAUT = {\n",
        "        \"facile\": {\n",
        "            \"vies\": 5,\n",
        "            \"probabilité_bonus\": 0.5,\n",
        "            \"vitesse_ennemis\": 1.0,\n",
        "            \"santé_initiale\": 100,\n",
        "            \"durée_max\": 600,\n",
        "            \"pénalité\": 5,\n",
        "        },\n",
        "        \"moyen\": {\n",
        "            \"vies\": 3,\n",
        "            \"probabilité_bonus\": 0.3,\n",
        "            \"vitesse_ennemis\": 1.5,\n",
        "            \"santé_initiale\": 75,\n",
        "            \"durée_max\": 300,\n",
        "            \"pénalité\": 10,\n",
        "        },\n",
        "        \"difficile\": {\n",
        "            \"vies\": 1,\n",
        "            \"probabilité_bonus\": 0.1,\n",
        "            \"vitesse_ennemis\": 2.0,\n",
        "            \"santé_initiale\": 50,\n",
        "            \"durée_max\": 180,\n",
        "            \"pénalité\": 20,\n",
        "        },\n",
        "    }\n",
        "\n",
        "    def __init__(self, niveau):\n",
        "        if niveau not in self.PARAMÈTRES_PAR_DÉFAUT:\n",
        "            raise ValueError(\"Niveau invalide. Choisissez parmi : facile, moyen, difficile.\")\n",
        "        self.niveau = niveau\n",
        "        self.paramètres = self.PARAMÈTRES_PAR_DÉFAUT[niveau]\n",
        "\n",
        "    def get_paramètre(self, clé):\n",
        "        return self.paramètres.get(clé, None)\n",
        "\n",
        "    def __str__(self):\n",
        "        return f\"Difficulté : {self.niveau.capitalize()}, Paramètres : {self.paramètres}\"\n"
      ]
    }
  ]
}